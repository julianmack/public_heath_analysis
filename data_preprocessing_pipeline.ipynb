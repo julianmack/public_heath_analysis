{
 "cells": [
  {
   "cell_type": "markdown",
   "metadata": {
    "toc": true
   },
   "source": [
    "<h1>Table of Contents<span class=\"tocSkip\"></span></h1>\n",
    "<div class=\"toc\"><ul class=\"toc-item\"><li><span><a href=\"#Send-Data-to-DB\" data-toc-modified-id=\"Send-Data-to-DB-1\"><span class=\"toc-item-num\">1&nbsp;&nbsp;</span>Send Data to DB</a></span></li><li><span><a href=\"#Use-of-DB-views\" data-toc-modified-id=\"Use-of-DB-views-2\"><span class=\"toc-item-num\">2&nbsp;&nbsp;</span>Use of DB views</a></span></li><li><span><a href=\"#Merged-data-extraction\" data-toc-modified-id=\"Merged-data-extraction-3\"><span class=\"toc-item-num\">3&nbsp;&nbsp;</span>Merged data extraction</a></span></li></ul></div>"
   ]
  },
  {
   "cell_type": "markdown",
   "metadata": {},
   "source": [
    "Pipeline for data storage and merging. Intermediate results are displayed in this file but the worker functions are in Preprocess() in preprocessing.py."
   ]
  },
  {
   "cell_type": "code",
   "execution_count": 1,
   "metadata": {},
   "outputs": [],
   "source": [
    "import pandas as pd \n",
    "import numpy as np\n",
    "import matplotlib.pyplot as plt\n",
    "import settings\n",
    "import sqlalchemy as sqla\n",
    "from sqlalchemy.orm import sessionmaker\n",
    "import time\n",
    "\n",
    "from sqlalchemy_declarative import *\n",
    "from preprocessing import Preprocess\n",
    "\n",
    "PATH = \"C:/Users/julia/Documents/coding/codingchallenges/qbiz/Archive/DataHealthProfiles/\"\n",
    "prep = Preprocess()"
   ]
  },
  {
   "cell_type": "markdown",
   "metadata": {},
   "source": [
    "### Send Data to DB"
   ]
  },
  {
   "cell_type": "code",
   "execution_count": 3,
   "metadata": {
    "scrolled": true
   },
   "outputs": [
    {
     "name": "stdout",
     "output_type": "stream",
     "text": [
      "48 files gathered...\n",
      "\n",
      "Sucessfully added acutesexuallytransmittedinfections\n",
      "Sucessfully added adultssmoking\n",
      "Sucessfully added alcoholspecifichospitalstaysunder18\n",
      "Sucessfully added allageallcausemortalityaggregatetrend\n",
      "Sucessfully added allethnicgroups\n",
      "Sucessfully added asian\n",
      "Sucessfully added averagedeprivedquintile\n",
      "Sucessfully added black\n",
      "Sucessfully added chinese\n",
      "Sucessfully added deprivation\n",
      "Sucessfully added drugmisuse\n",
      "Sucessfully added earlydeathscanceraggregatetrend\n",
      "Sucessfully added earlydeathscancer\n",
      "Sucessfully added earlydeathsheartdiseaseandstroke\n",
      "Sucessfully added earlydeathsheartdiseasestrokeaggregatetrend\n",
      "Sucessfully added excesswinterdeaths\n",
      "Sucessfully added gcseachieved5acincengmaths\n",
      "Sucessfully added healthyeatingadults\n",
      "Sucessfully added hipfracturein65sandover\n",
      "Sucessfully added hospitalstaysforalcoholrelatedharm\n",
      "Sucessfully added hospitalstaysforselfharm\n",
      "Sucessfully added incidenceofmalignantmelanoma\n",
      "Sucessfully added increasingandhigherriskdrinking\n",
      "Sucessfully added infantdeaths\n",
      "Sucessfully added leastdeprivedquintile\n",
      "Sucessfully added lessdeprivedquintile\n",
      "Sucessfully added lifeexpectancyfemale\n",
      "Sucessfully added lifeexpectancymale\n",
      "Sucessfully added longtermunemployment\n",
      "Sucessfully added mixed\n",
      "Sucessfully added moredeprivedquintile\n",
      "Sucessfully added mostdeprivedquintile\n",
      "Sucessfully added newcasesoftuberculosis\n",
      "Sucessfully added obeseadults\n",
      "Sucessfully added obesechildrenyear6\n",
      "Sucessfully added other\n",
      "Sucessfully added peoplediagnosedwithdiabetes\n",
      "Sucessfully added physicallyactiveadults\n",
      "Sucessfully added proportionofchildreninpoverty\n",
      "Sucessfully added roadinjuriesanddeaths\n",
      "Sucessfully added smokinginpregnancy\n",
      "Sucessfully added smokingrelateddeaths\n",
      "Sucessfully added startingbreastfeeding\n",
      "Sucessfully added statutoryhomelessness\n",
      "Sucessfully added teenagepregnancyunder18\n",
      "Sucessfully added unknown\n",
      "Sucessfully added violentcrime\n",
      "Sucessfully added white\n"
     ]
    }
   ],
   "source": [
    "#populate PostgreSQL database\n",
    "prep.populate_db(PATH)"
   ]
  },
  {
   "cell_type": "markdown",
   "metadata": {},
   "source": [
    "### Use of DB views\n",
    "\n",
    "I am planning to run multivariate models so it will be convenient to keep all indicator data in memory (rather than in the db). This is v. manageable as the data is small ~350x48. The time to extract all indicators from the db is relatively short (~700ms) but this will increase superlinearly with the number of samples. I experimented with views to speed this up but did not attain markedy better performance. See results below FYI. \n",
    "\n",
    "It would be overkill here, but with a (much) larger dataset I would use a preprocessing pipeline to create a clean dataset (stored in a db, on disk, or in cloud storage). I would then use PyTorch data loaders to make samples available for training. "
   ]
  },
  {
   "cell_type": "code",
   "execution_count": 6,
   "metadata": {},
   "outputs": [
    {
     "name": "stdout",
     "output_type": "stream",
     "text": [
      "Std db access:\n",
      "794 ms ± 28.1 ms per loop (mean ± std. dev. of 7 runs, 1 loop each)\n",
      "\n",
      "View Created\n",
      "Time taken for view creation: 0.4892246723175049\n",
      "\n",
      "db access after creating view:\n",
      "639 ms ± 37.1 ms per loop (mean ± std. dev. of 7 runs, 1 loop each)\n",
      "\n",
      "Time taken for std db access after creating view:\n",
      "755 ms ± 28.1 ms per loop (mean ± std. dev. of 7 runs, 1 loop each)\n"
     ]
    }
   ],
   "source": [
    "print(\"Std db access:\")\n",
    "%timeit prep.get_df_from_db_no_view() \n",
    "print()\n",
    "#now create db view\n",
    "t0 = time.time()\n",
    "prep.create_db_view() #can only run this once\n",
    "t1 = time.time()\n",
    "print(\"Time taken for view creation:\", t1-t0) \n",
    "print()\n",
    "\n",
    "print(\"db access after creating view:\")\n",
    "%timeit prep.get_df_from_db_w_view()\n",
    "print()\n",
    "\n",
    "print(\"Time taken for std db access after creating view:\") \n",
    "%timeit prep.get_df_from_db_no_view()  #i.e. using original query"
   ]
  },
  {
   "cell_type": "markdown",
   "metadata": {},
   "source": [
    "The times for db access reduced slightly by addition of views. "
   ]
  },
  {
   "cell_type": "markdown",
   "metadata": {},
   "source": [
    "### Merged data extraction"
   ]
  },
  {
   "cell_type": "code",
   "execution_count": 2,
   "metadata": {},
   "outputs": [
    {
     "name": "stdout",
     "output_type": "stream",
     "text": [
      "(361, 47)\n"
     ]
    }
   ],
   "source": [
    "df = prep.get_df_from_db_w_view()\n"
   ]
  },
  {
   "cell_type": "code",
   "execution_count": 3,
   "metadata": {},
   "outputs": [
    {
     "name": "stdout",
     "output_type": "stream",
     "text": [
      "                  AREA_NAME ONS_CODE_NEW  obesechildrenyear6      other  \\\n",
      "0                   England    E92000001           19.202513  46.393292   \n",
      "1                North East    E12000001           22.103695  44.023180   \n",
      "2                North West    E12000002           19.772661  51.884162   \n",
      "3  Yorkshire and the Humber    E12000003           19.231373  49.730764   \n",
      "\n",
      "   peoplediagnosedwithdiabetes  physicallyactiveadults  \\\n",
      "0                     5.758291               56.028024   \n",
      "1                     6.138118               53.879883   \n",
      "2                     6.038865               53.492282   \n",
      "3                     5.903651               55.267176   \n",
      "\n",
      "   proportionofchildreninpoverty  roadinjuriesanddeaths  smokinginpregnancy  \\\n",
      "0                      21.087867              41.904076           13.307570   \n",
      "1                      24.793613              35.203446           20.250416   \n",
      "2                      22.897068              41.947291           17.221996   \n",
      "3                      22.000930              46.598772           16.635976   \n",
      "\n",
      "   smokingrelateddeaths  ...  moredeprivedquintile  mostdeprivedquintile  \\\n",
      "0            200.660814  ...             20.153942             20.324787   \n",
      "1            257.993272  ...             23.362017             32.430277   \n",
      "2            245.262430  ...             18.831808             32.662936   \n",
      "3            228.362152  ...             19.731925             27.713375   \n",
      "\n",
      "   newcasesoftuberculosis  obeseadults  startingbreastfeeding  \\\n",
      "0                    15.4         24.2              74.762376   \n",
      "1                     5.5         27.8              59.143289   \n",
      "2                    11.7         23.4              63.090260   \n",
      "3                    12.6         26.3              69.327262   \n",
      "\n",
      "   statutoryhomelessness  teenagepregnancyunder18    unknown  violentcrime  \\\n",
      "0               2.314206                34.017510  30.072941     13.597446   \n",
      "1               1.618705                42.610090  28.081351     10.490294   \n",
      "2               1.427598                39.232100  38.323659     13.320357   \n",
      "3               2.224240                39.128965  29.587915     11.534529   \n",
      "\n",
      "       white  \n",
      "0  41.077650  \n",
      "1  41.361602  \n",
      "2  42.952069  \n",
      "3  42.024993  \n",
      "\n",
      "[4 rows x 47 columns]\n"
     ]
    }
   ],
   "source": []
  }
 ],
 "metadata": {
  "kernelspec": {
   "display_name": "Python 3",
   "language": "python",
   "name": "python3"
  },
  "language_info": {
   "codemirror_mode": {
    "name": "ipython",
    "version": 3
   },
   "file_extension": ".py",
   "mimetype": "text/x-python",
   "name": "python",
   "nbconvert_exporter": "python",
   "pygments_lexer": "ipython3",
   "version": "3.6.7"
  },
  "toc": {
   "base_numbering": 1,
   "nav_menu": {},
   "number_sections": true,
   "sideBar": true,
   "skip_h1_title": false,
   "title_cell": "Table of Contents",
   "title_sidebar": "Contents",
   "toc_cell": true,
   "toc_position": {},
   "toc_section_display": true,
   "toc_window_display": true
  }
 },
 "nbformat": 4,
 "nbformat_minor": 2
}
